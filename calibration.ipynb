{
 "cells": [
  {
   "cell_type": "markdown",
   "id": "a470b453",
   "metadata": {},
   "source": [
    "## JetBot Calibration\n",
    "\n",
    "Due to the performance difference of the motors, you may observe your JetBot is not moving straightly forward.\n",
    "\n",
    "Here you can use this notebook to calibrate your JetBot"
   ]
  },
  {
   "cell_type": "code",
   "execution_count": 1,
   "id": "5d9547ef",
   "metadata": {},
   "outputs": [],
   "source": [
    "from robot import JetBot\n",
    "import ipywidgets\n",
    "import threading\n",
    "import time\n",
    "import traitlets\n",
    "\n",
    "robot = JetBot()"
   ]
  },
  {
   "cell_type": "markdown",
   "id": "d5e40d34",
   "metadata": {},
   "source": [
    "Now we will command the JetBot to move forward 2 seconds and then backward 2 seconds.\n",
    "\n",
    "Adjust the left right motor's alpha beta sliders to make the JetBot moving straight in all speed."
   ]
  },
  {
   "cell_type": "code",
   "execution_count": 2,
   "id": "f69898af",
   "metadata": {},
   "outputs": [
    {
     "data": {
      "application/vnd.jupyter.widget-view+json": {
       "model_id": "98a8d1c6014147d2b50b2915617bf7a7",
       "version_major": 2,
       "version_minor": 0
      },
      "text/plain": [
       "VBox(children=(FloatSlider(value=0.2, description='JetBot Speed', max=1.0, step=0.01), HBox(children=(VBox(chi…"
      ]
     },
     "metadata": {},
     "output_type": "display_data"
    }
   ],
   "source": [
    "jetbot_running = True\n",
    "speed_slider = ipywidgets.FloatSlider(min=0.0, max=1.0, step=0.01, value=0.2, description='JetBot Speed')\n",
    "left_motor_alpha_slider = ipywidgets.FloatSlider(min=-1.0, max=1.0, step=0.01, value=robot.left_motor.alpha, description='gain')\n",
    "left_motor_beta_slider = ipywidgets.FloatSlider(min=-1.0, max=1.0, step=0.01, value=robot.left_motor.beta, description='offset')\n",
    "right_motor_alpha_slider = ipywidgets.FloatSlider(min=-1.0, max=1.0, step=0.01, value=robot.right_motor.alpha, description='gain')\n",
    "right_motor_beta_slider = ipywidgets.FloatSlider(min=-1.0, max=1.0, step=0.01, value=robot.right_motor.beta, description='offset')\n",
    "traitlets.link((robot.left_motor, 'alpha'), (left_motor_alpha_slider, 'value'))\n",
    "traitlets.link((robot.left_motor, 'beta'), (left_motor_beta_slider, 'value'))\n",
    "traitlets.link((robot.right_motor, 'alpha'), (right_motor_alpha_slider, 'value'))\n",
    "traitlets.link((robot.right_motor, 'beta'), (right_motor_beta_slider, 'value'))\n",
    "\n",
    "def run_jetbot():\n",
    "    while jetbot_running:\n",
    "        robot.forward(speed_slider.value)\n",
    "        time.sleep(2)\n",
    "        robot.backward(speed_slider.value)\n",
    "        time.sleep(2)\n",
    "        \n",
    "\n",
    "display(ipywidgets.VBox([speed_slider, ipywidgets.HBox([ipywidgets.VBox([ipywidgets.Label(value=\"Left Motor\"), left_motor_alpha_slider, left_motor_beta_slider]),ipywidgets.VBox([ipywidgets.Label(value=\"Right Motor\"), right_motor_alpha_slider, right_motor_beta_slider])])]))\n",
    "        \n",
    "run_jetbot_thread = threading.Thread(target=run_jetbot)\n",
    "run_jetbot_thread.start()"
   ]
  },
  {
   "cell_type": "markdown",
   "id": "f07408ac",
   "metadata": {},
   "source": [
    "After finish adjusting the value, let's save the result"
   ]
  },
  {
   "cell_type": "code",
   "execution_count": 3,
   "id": "96b959db",
   "metadata": {},
   "outputs": [],
   "source": [
    "jetbot_running = False\n",
    "run_jetbot_thread.join()\n",
    "robot.stop()\n",
    "robot.save_conf()"
   ]
  },
  {
   "cell_type": "code",
   "execution_count": null,
   "id": "56652aed",
   "metadata": {},
   "outputs": [],
   "source": []
  }
 ],
 "metadata": {
  "kernelspec": {
   "display_name": "Python 3",
   "language": "python",
   "name": "python3"
  },
  "language_info": {
   "codemirror_mode": {
    "name": "ipython",
    "version": 3
   },
   "file_extension": ".py",
   "mimetype": "text/x-python",
   "name": "python",
   "nbconvert_exporter": "python",
   "pygments_lexer": "ipython3",
   "version": "3.6.9"
  }
 },
 "nbformat": 4,
 "nbformat_minor": 5
}
